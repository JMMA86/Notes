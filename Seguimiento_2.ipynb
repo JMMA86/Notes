{
  "nbformat": 4,
  "nbformat_minor": 0,
  "metadata": {
    "colab": {
      "provenance": []
    },
    "kernelspec": {
      "name": "python3",
      "display_name": "Python 3"
    },
    "language_info": {
      "name": "python"
    }
  },
  "cells": [
    {
      "cell_type": "code",
      "source": [
        "!pip install pandas\n",
        "!pip install pyformlang"
      ],
      "metadata": {
        "colab": {
          "base_uri": "https://localhost:8080/"
        },
        "id": "FAWwlZgbrvAQ",
        "outputId": "3854acfd-d477-45ef-bdc6-368d50ab373a"
      },
      "execution_count": 4,
      "outputs": [
        {
          "output_type": "stream",
          "name": "stdout",
          "text": [
            "Requirement already satisfied: pandas in /usr/local/lib/python3.10/dist-packages (2.1.4)\n",
            "Requirement already satisfied: numpy<2,>=1.22.4 in /usr/local/lib/python3.10/dist-packages (from pandas) (1.26.4)\n",
            "Requirement already satisfied: python-dateutil>=2.8.2 in /usr/local/lib/python3.10/dist-packages (from pandas) (2.8.2)\n",
            "Requirement already satisfied: pytz>=2020.1 in /usr/local/lib/python3.10/dist-packages (from pandas) (2024.1)\n",
            "Requirement already satisfied: tzdata>=2022.1 in /usr/local/lib/python3.10/dist-packages (from pandas) (2024.1)\n",
            "Requirement already satisfied: six>=1.5 in /usr/local/lib/python3.10/dist-packages (from python-dateutil>=2.8.2->pandas) (1.16.0)\n",
            "Collecting pyformlang\n",
            "  Downloading pyformlang-1.0.10-py3-none-any.whl.metadata (2.4 kB)\n",
            "Requirement already satisfied: networkx in /usr/local/lib/python3.10/dist-packages (from pyformlang) (3.3)\n",
            "Requirement already satisfied: numpy in /usr/local/lib/python3.10/dist-packages (from pyformlang) (1.26.4)\n",
            "Requirement already satisfied: pydot in /usr/local/lib/python3.10/dist-packages (from pyformlang) (1.4.2)\n",
            "Requirement already satisfied: pyparsing>=2.1.4 in /usr/local/lib/python3.10/dist-packages (from pydot->pyformlang) (3.1.2)\n",
            "Downloading pyformlang-1.0.10-py3-none-any.whl (126 kB)\n",
            "\u001b[2K   \u001b[90m━━━━━━━━━━━━━━━━━━━━━━━━━━━━━━━━━━━━━━━━\u001b[0m \u001b[32m126.8/126.8 kB\u001b[0m \u001b[31m2.3 MB/s\u001b[0m eta \u001b[36m0:00:00\u001b[0m\n",
            "\u001b[?25hInstalling collected packages: pyformlang\n",
            "Successfully installed pyformlang-1.0.10\n"
          ]
        }
      ]
    },
    {
      "cell_type": "code",
      "execution_count": 20,
      "metadata": {
        "colab": {
          "base_uri": "https://localhost:8080/"
        },
        "id": "YQuBvMx-naDi",
        "outputId": "a7f71689-61a7-4969-e075-a537655c4205"
      },
      "outputs": [
        {
          "output_type": "stream",
          "name": "stdout",
          "text": [
            "   Consecutivo     Identificador      Fecha     Valor        Banco  \\\n",
            "0            1      Im000841225Z 2022-09-12    113000    OCCIDENTE   \n",
            "1            2      TX000312491z 2022-04-17   2450000  BANCOLOMBIA   \n",
            "2            3  shP/00234345560Y 2022-12-12  10800000   DAVIVIENDA   \n",
            "3            4      S1022121345s 2022-10-24    312000      AGRARIO   \n",
            "4            5      S0134090807S 2022-04-23    431000     AVVILLAS   \n",
            "\n",
            "         Medio  \n",
            "0  ELECTRONICO  \n",
            "1  ELECTRONICO  \n",
            "2  ELECTRONICO  \n",
            "3  ELECTRONICO  \n",
            "4  ELECTRONICO  \n"
          ]
        }
      ],
      "source": [
        "import pandas as pd\n",
        "df = pd.read_excel(\"transacciones.xls\")\n",
        "print(df.head())\n",
        "\n",
        "from pyformlang.finite_automaton import DeterministicFiniteAutomaton, NondeterministicFiniteAutomaton, State, Symbol"
      ]
    },
    {
      "cell_type": "code",
      "source": [
        "\n",
        "dfa = DeterministicFiniteAutomaton()\n",
        "\n",
        "q = [ State(f'q{i}') for i in range(15) ]\n",
        "\n",
        "dfa.add_transition( q[0], 'i', q[1] )\n",
        "dfa.add_transition( q[0], 'I', q[1] )\n",
        "dfa.add_transition( q[1], 'm', q[2] )\n",
        "dfa.add_transition( q[1], 'M', q[2] )\n",
        "dfa.add_transition( q[0], 't', q[3] )\n",
        "dfa.add_transition( q[0], 'T', q[3] )\n",
        "dfa.add_transition( q[3], 'x', q[4] )\n",
        "dfa.add_transition( q[3], 'X', q[4] )\n",
        "dfa.add_transition( q[2], '0', q[5] )\n",
        "dfa.add_transition( q[4], '0', q[5] )\n",
        "for i in range(5, 7):\n",
        "  dfa.add_transition(q[i], '0', q[i+1])\n",
        "for i in range(1,10):\n",
        "  dfa.add_transition(q[7], f'{i}',q[8])\n",
        "for j in range(8, 13):\n",
        "  for i in range(10):\n",
        "    dfa.add_transition(q[j], f'{i}',q[j+1])\n",
        "dfa.add_transition(q[13], 'z', q[14])\n",
        "dfa.add_transition(q[13], 'Z', q[14])\n",
        "\n",
        "\n",
        "dfa.add_start_state(q[0])\n",
        "dfa.add_final_state(q[14])\n",
        "df1 = df[ df['Identificador'].apply(lambda x: dfa.accepts(list(x))) ]\n",
        "\n",
        "print(df1)"
      ],
      "metadata": {
        "colab": {
          "base_uri": "https://localhost:8080/"
        },
        "id": "LllxWXXIqid9",
        "outputId": "fdcf7535-1d93-461f-ccbe-6f25155d1bbb"
      },
      "execution_count": 21,
      "outputs": [
        {
          "output_type": "stream",
          "name": "stdout",
          "text": [
            "    Consecutivo Identificador      Fecha     Valor        Banco        Medio\n",
            "0             1  Im000841225Z 2022-09-12    113000    OCCIDENTE  ELECTRONICO\n",
            "1             2  TX000312491z 2022-04-17   2450000  BANCOLOMBIA  ELECTRONICO\n",
            "5             6  iM000182181z 2021-01-22    334000         BBVA   PRESENCIAL\n",
            "6             7  tx000333444Z 2022-10-15    180000     AVVILLAS   PRESENCIAL\n",
            "8             9  Tx000456561z 2023-07-17   1800300  BANCOLOMBIA  ELECTRONICO\n",
            "10           11  tx000233416z 2022-01-16     25000    OCCIDENTE   PRESENCIAL\n",
            "12           13  iM000311110z 2022-08-10    100000   DAVIVIENDA  ELECTRONICO\n",
            "27           28  iM000921121z 2022-10-11     34000   DAVIVIENDA  ELECTRONICO\n",
            "42           43  tX000411223Z 2022-01-24   3800000         BBVA  ELECTRONICO\n",
            "43           44  iM000717120Z 2022-01-17    345000  BANCOLOMBIA  ELECTRONICO\n",
            "46           47  IM000212144z 2023-07-17   5200000   DAVIVIENDA  ELECTRONICO\n",
            "53           54  tX000126766Z 2022-04-19    566000      AGRARIO  ELECTRONICO\n",
            "54           55  tX000912003Z 2022-01-15     23000    OCCIDENTE   PRESENCIAL\n",
            "59           60  im000551532z 2023-01-19   2300000  BANCOLOMBIA  ELECTRONICO\n",
            "61           62  TX000824211z 2023-01-18  16500000     AVVILLAS  ELECTRONICO\n",
            "63           64  IM000212331z 2022-08-09    520000   DAVIVIENDA  ELECTRONICO\n",
            "64           65  tx000221457Z 2023-01-20    400000      AGRARIO  ELECTRONICO\n",
            "72           73  Im000277890z 2022-11-19     80000         ITAU  ELECTRONICO\n",
            "77           78  im000566678Z 2022-08-11    234000  BANCOLOMBIA  ELECTRONICO\n",
            "90           91  im000341121Z 2022-04-18   1800000  BANCOLOMBIA  ELECTRONICO\n",
            "97           98  tx000171722Z 2022-11-07     25000   DAVIVIENDA  ELECTRONICO\n",
            "98           99  Tx000809091z 2022-01-18    231000      AGRARIO   PRESENCIAL\n",
            "99          100  im000999989Z 2022-02-18    112000   DAVIVIENDA   PRESENCIAL\n"
          ]
        }
      ]
    },
    {
      "cell_type": "code",
      "source": [
        "nfa = NondeterministicFiniteAutomaton()\n",
        "\n",
        "q = [State(f'q{i}' for i in range(15))]\n",
        "\n",
        "nfa.add_transition(q[0], 's', q[1])\n",
        "nfa.add_transition(q[0], 'S', q[1])\n",
        "nfa.add_transition(q[1], '1', q[2])\n",
        "nfa.add_transition(q[2], '1', q[4])\n",
        "nfa.add_transition(q[1], '1', q[3])\n",
        "nfa.add_transition(q[3], '0', q[4])\n",
        "nfa.add_transition(q[4], '2', q[5])\n",
        "nfa.add_transition(q[5], '2', q[6])\n",
        "nfa.add_transition(q[4], '3', q[7])\n",
        "nfa.add_transition(q[7], '3', q[8])\n",
        "f\n",
        "nfa.add_transition(q[6], '3', q[9])\n",
        "nfa.add_transition(q[8], '3', q[9])"
      ],
      "metadata": {
        "id": "MUK0GIGQuzAI"
      },
      "execution_count": null,
      "outputs": []
    }
  ]
}